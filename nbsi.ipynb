{
 "cells": [
  {
   "cell_type": "code",
   "execution_count": 1,
   "id": "3985b169-a212-4b43-95b3-881e0d913843",
   "metadata": {},
   "outputs": [],
   "source": [
    "import math\n",
    "import random\n",
    "import pandas as pd\n",
    "import numpy as np"
   ]
  },
  {
   "cell_type": "code",
   "execution_count": 3,
   "id": "9c0fd14d-c2a3-4829-813e-a61500a55701",
   "metadata": {},
   "outputs": [],
   "source": [
    "def encode_class(mydata):\n",
    "    classes = []\n",
    "    for i in range(len(mydata)):\n",
    "        if mydata[i][-1] not in classes:\n",
    "            classes.append(mydata[i][-1])\n",
    "    for i in range(len(classes)):\n",
    "        for j in range(len(mydata)):\n",
    "            if mydata[j][-1] == classes[i]:\n",
    "                mydata[j][-1] = i\n",
    "    return mydata"
   ]
  },
  {
   "cell_type": "code",
   "execution_count": 5,
   "id": "b75edd44-9b74-433a-bc35-29f6d3a7f19c",
   "metadata": {},
   "outputs": [],
   "source": [
    "def splitting(mydata, ratio):\n",
    "    train_num = int(len(mydata) * ratio)\n",
    "    train = []\n",
    "    test = list(mydata)\n",
    "    while len(train) < train_num:\n",
    "        index = random.randrange(len(test))\n",
    "        train.append(test.pop(index))\n",
    "    return train, test"
   ]
  },
  {
   "cell_type": "code",
   "execution_count": 7,
   "id": "16142079-00dd-4bf5-a9ec-0b7a3763f528",
   "metadata": {},
   "outputs": [],
   "source": [
    "def groupUnderClass(mydata):\n",
    "    data_dict = {}\n",
    "    for i in range(len(mydata)):\n",
    "        if mydata[i][-1] not in data_dict:\n",
    "            data_dict[mydata[i][-1]] = []\n",
    "        data_dict[mydata[i][-1]].append(mydata[i])\n",
    "    return data_dict"
   ]
  },
  {
   "cell_type": "code",
   "execution_count": 9,
   "id": "c1284edc-d495-4e8d-8fc1-7e90994183fd",
   "metadata": {},
   "outputs": [],
   "source": [
    "def MeanAndStdDev(numbers):\n",
    "    avg = np.mean(numbers)\n",
    "    stddev = np.std(numbers)\n",
    "    return avg, stddev\n",
    "\n",
    "def MeanAndStdDevForClass(mydata):\n",
    "    info = {}\n",
    "    data_dict = groupUnderClass(mydata)\n",
    "    for classValue, instances in data_dict.items():\n",
    "        info[classValue] = [MeanAndStdDev(attribute) for attribute in zip(*instances)]\n",
    "    return info"
   ]
  },
  {
   "cell_type": "code",
   "execution_count": 11,
   "id": "23a1aef9-8fb5-468c-8f60-aaeb220f99f3",
   "metadata": {},
   "outputs": [],
   "source": [
    "def calculateGaussianProbability(x, mean, stdev):\n",
    "    epsilon = 1e-10\n",
    "    expo = math.exp(-(math.pow(x - mean, 2) / (2 * math.pow(stdev + epsilon, 2))))\n",
    "    return (1 / (math.sqrt(2 * math.pi) * (stdev + epsilon))) * expo\n",
    "\n",
    "def calculateClassProbabilities(info, test):\n",
    "    probabilities = {}\n",
    "    for classValue, classSummaries in info.items():\n",
    "        probabilities[classValue] = 1\n",
    "        for i in range(len(classSummaries)):\n",
    "            mean, std_dev = classSummaries[i]\n",
    "            x = test[i]\n",
    "            probabilities[classValue] *= calculateGaussianProbability(x, mean, std_dev)\n",
    "    return probabilities"
   ]
  },
  {
   "cell_type": "code",
   "execution_count": 13,
   "id": "68a8ff38-4a12-4275-97e9-306a43e46967",
   "metadata": {},
   "outputs": [],
   "source": [
    "def predict(info, test):\n",
    "    probabilities = calculateClassProbabilities(info, test)\n",
    "    bestLabel = max(probabilities, key=probabilities.get)\n",
    "    return bestLabel\n",
    "\n",
    "def getPredictions(info, test):\n",
    "    predictions = [predict(info, instance) for instance in test]\n",
    "    return predictions"
   ]
  },
  {
   "cell_type": "code",
   "execution_count": 15,
   "id": "c424d0f4-d196-4e43-967c-30fdd0c5bd82",
   "metadata": {},
   "outputs": [],
   "source": [
    "def accuracy_rate(test, predictions):\n",
    "    correct = sum(1 for i in range(len(test)) if test[i][-1] == predictions[i])\n",
    "    return (correct / float(len(test))) * 100.0"
   ]
  },
  {
   "cell_type": "code",
   "execution_count": 19,
   "id": "e2182a0f-8f20-4815-96eb-8d3fde71aedd",
   "metadata": {},
   "outputs": [],
   "source": [
    "# Load data using pandas\n",
    "filename = 'pima-indians-diabetes.csv'  # Add the correct file path\n",
    "df = pd.read_csv(filename)\n",
    "mydata = df.values.tolist()\n",
    "\n",
    "# Encode classes and convert attributes to float\n",
    "mydata = encode_class(mydata)\n",
    "for i in range(len(mydata)):\n",
    "    for j in range(len(mydata[i]) - 1):\n",
    "        mydata[i][j] = float(mydata[i][j])"
   ]
  },
  {
   "cell_type": "code",
   "execution_count": 21,
   "id": "32e0b69c-ae7f-4a95-a1c6-1fcbfd177070",
   "metadata": {},
   "outputs": [
    {
     "name": "stdout",
     "output_type": "stream",
     "text": [
      "Total number of examples: 767\n",
      "Training examples: 536\n",
      "Test examples: 231\n"
     ]
    }
   ],
   "source": [
    "# Split the data into training and testing sets\n",
    "ratio = 0.7\n",
    "train_data, test_data = splitting(mydata, ratio)\n",
    "\n",
    "print('Total number of examples:', len(mydata))\n",
    "print('Training examples:', len(train_data))\n",
    "print('Test examples:', len(test_data))"
   ]
  },
  {
   "cell_type": "code",
   "execution_count": 23,
   "id": "7656cc4c-4ba3-40f9-bcf9-ab68e44f1f5a",
   "metadata": {},
   "outputs": [
    {
     "name": "stdout",
     "output_type": "stream",
     "text": [
      "Accuracy of the model: 100.0\n"
     ]
    }
   ],
   "source": [
    "# Train the model\n",
    "info = MeanAndStdDevForClass(train_data)\n",
    "\n",
    "# Test the model\n",
    "predictions = getPredictions(info, test_data)\n",
    "accuracy = accuracy_rate(test_data, predictions)\n",
    "print('Accuracy of the model:', accuracy)"
   ]
  },
  {
   "cell_type": "code",
   "execution_count": null,
   "id": "5198e12f-bd30-49e0-ad83-dd7b22adeecc",
   "metadata": {},
   "outputs": [],
   "source": []
  }
 ],
 "metadata": {
  "kernelspec": {
   "display_name": "Python [conda env:base] *",
   "language": "python",
   "name": "conda-base-py"
  },
  "language_info": {
   "codemirror_mode": {
    "name": "ipython",
    "version": 3
   },
   "file_extension": ".py",
   "mimetype": "text/x-python",
   "name": "python",
   "nbconvert_exporter": "python",
   "pygments_lexer": "ipython3",
   "version": "3.12.7"
  }
 },
 "nbformat": 4,
 "nbformat_minor": 5
}
